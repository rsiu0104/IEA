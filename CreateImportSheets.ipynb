{
 "cells": [
  {
   "cell_type": "code",
   "execution_count": null,
   "metadata": {},
   "outputs": [],
   "source": [
    "# Import and create dfs.\n",
    "import pandas as pd\n",
    "import numpy as np\n",
    "import re\n",
    "\n",
    "file_assetList = 'Input/IEA equipment inventory_20190925.xlsx'\n",
    "df_input = pd.read_excel(file_assetList, sheet_name='Sheet1')\n",
    "#display(df_input.columns)"
   ]
  },
  {
   "cell_type": "code",
   "execution_count": null,
   "metadata": {},
   "outputs": [],
   "source": [
    "#display(df_input)"
   ]
  },
  {
   "cell_type": "code",
   "execution_count": null,
   "metadata": {},
   "outputs": [],
   "source": [
    "#Extract Floor PDU Circuits\n",
    "\n",
    "#Check for non-conforming Floor PDU Circuit names (e.g. Not PDU-01-6L1)\n",
    "print('The following are non-conforming Floor PDU Circuit names, e.g. NOT PDU-1-6L1/23')\n",
    "display(df_input.loc[~df_input['PDU No. / Socket No.'].str.match('PDU-\\d+-\\d+[L][123]\\s*[-/]\\s*\\d+', na=True, case=False), 'PDU No. / Socket No.'])\n",
    "display(df_input.loc[~df_input['PDU No. / Socket No..1'].str.match('PDU-\\d+-\\d+[L][123]\\s*[-/]\\s*\\d+', na=True, case=False), 'PDU No. / Socket No..1'])\n",
    "display(df_input.loc[~df_input['PDU No. / Socket No..2'].str.match('PDU-\\d+-\\d+[L][123]\\s*[-/]\\s*\\d+', na=True, case=False), 'PDU No. / Socket No..2'])\n",
    "display(df_input.loc[~df_input['PDU No. / Socket No..3'].str.match('PDU-\\d+-\\d+[L][123]\\s*[-/]\\s*\\d+', na=True, case=False), 'PDU No. / Socket No..3'])\n",
    "display(df_input.loc[~df_input['Remarks'].str.match('PDU-\\d+-\\d+[L][123]\\s*[-/]\\s*\\d+', na=True, case=False), 'Remarks'])\n",
    "\n",
    "\n",
    "df_pdus = df_input['PDU No. / Socket No.'].str.extract('(\\w+-\\d+-\\d+[Ll][123])[-/](\\d+)')\n",
    "df_pdus[0].sort_values().dropna().unique()\n",
    "\n",
    "df_pdus1 = df_input['PDU No. / Socket No..1'].str.extract('(\\w+-\\d+-\\d+[Ll][123])[-/](\\d+)')\n",
    "df_pdus1[0].sort_values().dropna().unique()\n",
    "\n",
    "df_pdus2 = df_input['PDU No. / Socket No..2'].str.extract('(\\w+-\\d+-\\d+[Ll][123])[-/](\\d+)')\n",
    "df_pdus2[0].sort_values().dropna().unique()\n",
    "\n",
    "df_pdus3 = df_input['PDU No. / Socket No..3'].str.extract('(\\w+-\\d+-\\d+[Ll][123])[-/](\\d+)')\n",
    "df_pdus3[0].sort_values().dropna().unique()\n",
    "\n",
    "df_pdus4 = df_input['Remarks'].str.extract('(\\w+-\\d+-\\d+[Ll][123])[-/](\\d+)')\n",
    "df_pdus4[0].sort_values().dropna().unique()\n",
    "\n",
    "list_pdus = np.append(df_pdus[0].sort_values().dropna().unique(), df_pdus1[0].sort_values().dropna().unique())\n",
    "list_pdus = np.append(list_pdus, df_pdus2[0].sort_values().dropna().unique())\n",
    "list_pdus = np.append(list_pdus, df_pdus3[0].sort_values().dropna().unique())\n",
    "list_pdus = np.append(list_pdus, df_pdus4[0].sort_values().dropna().unique())\n",
    "\n",
    "#df_racks = pd.DataFrame(df_input['IEA Rack'].sort_values().dropna().unique(), columns=['Name'])\n",
    "\n",
    "df_pdus_final = pd.DataFrame(list_pdus, columns=['Name'])\n",
    "df_circuits = pd.DataFrame(df_pdus_final['Name'].sort_values().unique(), columns=['Circuit'])\n",
    "display(df_circuits)\n",
    "\n",
    "df_circuits.to_csv(\"Output/Circuits.csv\", \",\", index=False)"
   ]
  },
  {
   "cell_type": "code",
   "execution_count": null,
   "metadata": {},
   "outputs": [],
   "source": [
    "#Create \"Add Rack PDUs\" Import Sheet\n",
    "\n",
    "#Extracting circuit info to create standard circuits\n",
    "df_circuits['Panel'] = df_circuits['Circuit'].str.extract('PDU-(\\d+)-.*',  flags=re.IGNORECASE)\n",
    "df_circuits['Panel'] = df_circuits['Panel'].fillna(0).astype(int)\n",
    "df_circuits['Line'] = df_circuits['Circuit'].str.extract('PDU-\\d+-(\\d+).*',  flags=re.IGNORECASE)\n",
    "df_circuits['Line'] = df_circuits['Line'].fillna(0).astype(int)\n",
    "df_circuits['Phase'] = df_circuits['Circuit'].str.extract('PDU-\\d+-\\d+L(\\d+)',  flags=re.IGNORECASE)\n",
    "df_circuits['Phase'] = df_circuits['Phase'].fillna(0).astype(int)\n",
    "\n",
    "df_circuits['Circuit Name'] = \"PDU-\" + df_circuits['Panel'].astype(str) + \"-\" + df_circuits['Line'].astype(str) + \"L\" + df_circuits['Phase'].astype(str)\n",
    "display(df_circuits['Circuit Name'].sort_values().dropna().unique())\n",
    "\n",
    "df_rpdus = pd.DataFrame(df_circuits['Circuit Name'].sort_values().dropna().unique(), columns=['Name'])\n",
    "df_rpdus['PDU Name'] = \"\"\n",
    "df_rpdus['Make'] = \"Raritan\"\n",
    "df_rpdus['Model'] = \"\"\n",
    "df_rpdus['Cabinet'] = \"\"\n",
    "df_rpdus['Depth Position'] = \"\"\n",
    "df_rpdus['Cabinet Side'] = \"\"\n",
    "df_rpdus['U Position'] = \"\"\n",
    "df_rpdus['IP Address'] = \"\"\n",
    "df_rpdus['Proxy ID'] = \"\"\n",
    "df_rpdus.to_csv(\"Output/Circuits_and_RackPDU.csv\", \",\", index=False)"
   ]
  },
  {
   "cell_type": "code",
   "execution_count": null,
   "metadata": {},
   "outputs": [],
   "source": [
    "#Extract Rack from df_input\n",
    "#Create Add Cabinet import sheet\n",
    "print('List of racks', df_input['IEA Rack'].sort_values().dropna().unique())\n",
    "df_racks = pd.DataFrame(df_input['IEA Rack'].sort_values().dropna().unique(), columns=['Name'])\n",
    "df_racks['Make'] = ''\n",
    "df_racks['Model'] = ''\n",
    "df_racks['Row Label'] = df_racks['Name'].str.extract('\\d(\\w)-\\d+')\n",
    "df_racks['Position in Row'] = df_racks['Name'].str.extract('\\d\\w-[0]*(\\d+)')\n",
    "df_racks['Status'] = 'Planned'\n",
    "df_racks['Capacity(kW)'] = 6\n",
    "display(df_racks)\n",
    "df_racks.to_csv('Output/Cabinets.csv', ',', index=False)"
   ]
  },
  {
   "cell_type": "code",
   "execution_count": null,
   "metadata": {},
   "outputs": [],
   "source": [
    "df_racks"
   ]
  },
  {
   "cell_type": "code",
   "execution_count": null,
   "metadata": {},
   "outputs": [],
   "source": []
  }
 ],
 "metadata": {
  "kernelspec": {
   "display_name": "Python 3",
   "language": "python",
   "name": "python3"
  },
  "language_info": {
   "codemirror_mode": {
    "name": "ipython",
    "version": 3
   },
   "file_extension": ".py",
   "mimetype": "text/x-python",
   "name": "python",
   "nbconvert_exporter": "python",
   "pygments_lexer": "ipython3"
  }
 },
 "nbformat": 4,
 "nbformat_minor": 2
}
