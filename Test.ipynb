{
 "cells": [
  {
   "cell_type": "code",
   "execution_count": null,
   "metadata": {},
   "outputs": [],
   "source": [
    "# Import and create dfs.\n",
    "import pandas as pd\n",
    "import numpy as np\n",
    "import re\n",
    "\n",
    "file_assetList = 'Input/ModelsTemplate_ricardo.xlsx'\n",
    "df_input = pd.read_excel(file_assetList, sheet_name='ModelsTemplate_ricardo.0cf11a6b', comment='#')\n",
    "#display(df_input.columns)"
   ]
  },
  {
   "cell_type": "code",
   "execution_count": null,
   "metadata": {},
   "outputs": [],
   "source": [
    "#display(df_input)\n",
    "df_input['Best Match'] = df_input['Unnamed: 4'].str.extract('.*the best match with model:(.*)')\n",
    "df_input"
   ]
  },
  {
   "cell_type": "code",
   "execution_count": null,
   "metadata": {},
   "outputs": [],
   "source": [
    "bool_no_best_match = df_input['Best Match'].isnull()\n",
    "#display(bool_no_best_match)\n",
    "\n",
    "df_input.loc[bool_no_best_match, ['Unnamed: 3']]"
   ]
  },
  {
   "cell_type": "code",
   "execution_count": null,
   "metadata": {},
   "outputs": [],
   "source": []
  }
 ],
 "metadata": {
  "kernelspec": {
   "display_name": "Python 3",
   "language": "python",
   "name": "python3"
  },
  "language_info": {
   "codemirror_mode": {
    "name": "ipython",
    "version": 3
   },
   "file_extension": ".py",
   "mimetype": "text/x-python",
   "name": "python",
   "nbconvert_exporter": "python",
   "pygments_lexer": "ipython3"
  }
 },
 "nbformat": 4,
 "nbformat_minor": 2
}
